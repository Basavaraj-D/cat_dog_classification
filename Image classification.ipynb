{
 "cells": [
  {
   "cell_type": "markdown",
   "id": "d8f45e19",
   "metadata": {},
   "source": [
    "## Convolutional Neural Network"
   ]
  },
  {
   "cell_type": "markdown",
   "id": "62594db2",
   "metadata": {},
   "source": [
    "### Importing the libraries"
   ]
  },
  {
   "cell_type": "code",
   "execution_count": 5,
   "id": "0b572ed1",
   "metadata": {},
   "outputs": [],
   "source": [
    "import tensorflow as tf\n",
    "from keras.preprocessing.image import ImageDataGenerator"
   ]
  },
  {
   "cell_type": "code",
   "execution_count": 6,
   "id": "c04ac689",
   "metadata": {},
   "outputs": [
    {
     "data": {
      "text/plain": [
       "'2.8.0'"
      ]
     },
     "execution_count": 6,
     "metadata": {},
     "output_type": "execute_result"
    }
   ],
   "source": [
    "tf.__version__"
   ]
  },
  {
   "cell_type": "markdown",
   "id": "a82b1aef",
   "metadata": {},
   "source": [
    "### Part 1: DATA PREPROCESSING"
   ]
  },
  {
   "cell_type": "markdown",
   "id": "aa82cb4d",
   "metadata": {},
   "source": [
    "    we will apply transformation the pictures to avoid overfitting but not on the test set,in simple what we will do is transform images like zooming,flipping etc..This process is called image augmentation"
   ]
  },
  {
   "cell_type": "markdown",
   "id": "8827be98",
   "metadata": {},
   "source": [
    "### Preprocessing the training set"
   ]
  },
  {
   "cell_type": "code",
   "execution_count": 10,
   "id": "b0ae9a86",
   "metadata": {},
   "outputs": [
    {
     "name": "stdout",
     "output_type": "stream",
     "text": [
      "Found 8000 images belonging to 2 classes.\n"
     ]
    }
   ],
   "source": [
    "train_datagen = ImageDataGenerator(\n",
    "        rescale=1./255,\n",
    "        shear_range=0.2,\n",
    "        zoom_range=0.2,\n",
    "        horizontal_flip=True)\n",
    "\n",
    "training_set = train_datagen.flow_from_directory(\n",
    "        \"C:\\\\Users\\\\basav\\\\Desktop\\\\dataset\\\\training_set\",\n",
    "        target_size=(64, 64),\n",
    "        batch_size=32,\n",
    "        class_mode='binary')"
   ]
  },
  {
   "cell_type": "markdown",
   "id": "80681c90",
   "metadata": {},
   "source": [
    "### Preprocessing the test set"
   ]
  },
  {
   "cell_type": "code",
   "execution_count": 11,
   "id": "25b1b412",
   "metadata": {},
   "outputs": [],
   "source": [
    "test_datagen = ImageDataGenerator(rescale=1./255)"
   ]
  },
  {
   "cell_type": "code",
   "execution_count": 13,
   "id": "d3bdff77",
   "metadata": {},
   "outputs": [
    {
     "name": "stdout",
     "output_type": "stream",
     "text": [
      "Found 2000 images belonging to 2 classes.\n"
     ]
    }
   ],
   "source": [
    "test_set = test_datagen.flow_from_directory(\n",
    "        \"C:\\\\Users\\\\basav\\\\Desktop\\\\dataset\\\\test_set\",\n",
    "        target_size=(64, 64),\n",
    "        batch_size=32,\n",
    "        class_mode='binary')"
   ]
  },
  {
   "cell_type": "markdown",
   "id": "37021fa9",
   "metadata": {},
   "source": [
    "### Part 2: BUILDING THE CNN"
   ]
  },
  {
   "cell_type": "markdown",
   "id": "9e38c4bb",
   "metadata": {},
   "source": [
    "### Initialising the CNN"
   ]
  },
  {
   "cell_type": "code",
   "execution_count": 14,
   "id": "af3309f7",
   "metadata": {},
   "outputs": [],
   "source": [
    "cnn = tf.keras.models.Sequential()"
   ]
  },
  {
   "cell_type": "markdown",
   "id": "3dfeb367",
   "metadata": {},
   "source": [
    "### Step 1: Convolution"
   ]
  },
  {
   "cell_type": "markdown",
   "id": "58141e50",
   "metadata": {},
   "source": [
    "    we can experiment with layers"
   ]
  },
  {
   "cell_type": "code",
   "execution_count": 16,
   "id": "4535bbeb",
   "metadata": {},
   "outputs": [],
   "source": [
    "cnn.add(tf.keras.layers.Conv2D(filters=32,kernel_size=3,activation=\"relu\",input_shape=[64,64,3]))\n"
   ]
  },
  {
   "cell_type": "markdown",
   "id": "4d588b30",
   "metadata": {},
   "source": [
    "### Step 2: Pooling"
   ]
  },
  {
   "attachments": {
    "image.png": {
     "image/png": "[encoded data removed]"
    }
   },
   "cell_type": "markdown",
   "id": "d62dee1e",
   "metadata": {},
   "source": [
    "    pool size is generally sujjested is 2 and stride will be 2 since\n",
    "![image.png](attachment:image.png)"
   ]
  },
  {
   "cell_type": "code",
   "execution_count": 17,
   "id": "93f420ba",
   "metadata": {},
   "outputs": [],
   "source": [
    "cnn.add(tf.keras.layers.MaxPool2D(pool_size=2,strides=2))"
   ]
  },
  {
   "cell_type": "markdown",
   "id": "238ca51e",
   "metadata": {},
   "source": [
    "### Adding a second convolutional Layer"
   ]
  },
  {
   "cell_type": "code",
   "execution_count": 19,
   "id": "edf3010f",
   "metadata": {},
   "outputs": [],
   "source": [
    "cnn.add(tf.keras.layers.Conv2D(filters=32,kernel_size=3,activation=\"relu\"))\n",
    "cnn.add(tf.keras.layers.MaxPool2D(pool_size=2,strides=2))"
   ]
  },
  {
   "cell_type": "markdown",
   "id": "904fc9fc",
   "metadata": {},
   "source": [
    "### Step 3: Flattening"
   ]
  },
  {
   "cell_type": "code",
   "execution_count": 20,
   "id": "872f1807",
   "metadata": {},
   "outputs": [],
   "source": [
    "cnn.add(tf.keras.layers.Flatten())"
   ]
  },
  {
   "cell_type": "markdown",
   "id": "8d8dab1b",
   "metadata": {},
   "source": [
    "### Step 4: Full Connection"
   ]
  },
  {
   "cell_type": "code",
   "execution_count": 21,
   "id": "b36d61d2",
   "metadata": {},
   "outputs": [],
   "source": [
    "cnn.add(tf.keras.layers.Dense(units=128,activation='relu'))"
   ]
  },
  {
   "cell_type": "markdown",
   "id": "af4380c7",
   "metadata": {},
   "source": [
    "### Step 5: Output Layer"
   ]
  },
  {
   "cell_type": "markdown",
   "id": "9cb02224",
   "metadata": {},
   "source": [
    "    for multiclass the activation will be softmax"
   ]
  },
  {
   "cell_type": "code",
   "execution_count": 22,
   "id": "6782739f",
   "metadata": {},
   "outputs": [],
   "source": [
    "cnn.add(tf.keras.layers.Dense(units=1,activation='sigmoid'))"
   ]
  },
  {
   "cell_type": "markdown",
   "id": "e07e5967",
   "metadata": {},
   "source": [
    "### Part 3: TRAINING THE CNN"
   ]
  },
  {
   "cell_type": "markdown",
   "id": "88052839",
   "metadata": {},
   "source": [
    "### Compiling the CNN"
   ]
  },
  {
   "cell_type": "code",
   "execution_count": 24,
   "id": "ee594d4e",
   "metadata": {},
   "outputs": [],
   "source": [
    "cnn.compile(optimizer='adam',loss='binary_crossentropy',metrics = ['accuracy'])"
   ]
  },
  {
   "cell_type": "markdown",
   "id": "f825d6ec",
   "metadata": {},
   "source": [
    "### Training the CNN on the training set and evaluating on the test set"
   ]
  },
  {
   "cell_type": "code",
   "execution_count": 28,
   "id": "55d5e5b4",
   "metadata": {},
   "outputs": [
    {
     "name": "stdout",
     "output_type": "stream",
     "text": [
      "Epoch 1/25\n",
      "250/250 [==============================] - 447s 2s/step - loss: 0.6773 - accuracy: 0.5782 - val_loss: 0.6512 - val_accuracy: 0.5960\n",
      "Epoch 2/25\n",
      "250/250 [==============================] - 192s 768ms/step - loss: 0.6130 - accuracy: 0.6711 - val_loss: 0.5594 - val_accuracy: 0.7135\n",
      "Epoch 3/25\n",
      "250/250 [==============================] - 86s 344ms/step - loss: 0.5746 - accuracy: 0.7006 - val_loss: 0.6025 - val_accuracy: 0.6825\n",
      "Epoch 4/25\n",
      "250/250 [==============================] - 80s 319ms/step - loss: 0.5382 - accuracy: 0.7219 - val_loss: 0.5184 - val_accuracy: 0.7455\n",
      "Epoch 5/25\n",
      "250/250 [==============================] - 80s 321ms/step - loss: 0.5055 - accuracy: 0.7523 - val_loss: 0.4817 - val_accuracy: 0.7640\n",
      "Epoch 6/25\n",
      "250/250 [==============================] - 84s 336ms/step - loss: 0.4882 - accuracy: 0.7591 - val_loss: 0.6151 - val_accuracy: 0.7070\n",
      "Epoch 7/25\n",
      "250/250 [==============================] - 84s 334ms/step - loss: 0.4664 - accuracy: 0.7761 - val_loss: 0.4944 - val_accuracy: 0.7650\n",
      "Epoch 8/25\n",
      "250/250 [==============================] - 262s 1s/step - loss: 0.4562 - accuracy: 0.7840 - val_loss: 0.4846 - val_accuracy: 0.7605\n",
      "Epoch 9/25\n",
      "250/250 [==============================] - 192s 769ms/step - loss: 0.4467 - accuracy: 0.7890 - val_loss: 0.4756 - val_accuracy: 0.7820\n",
      "Epoch 10/25\n",
      "250/250 [==============================] - 123s 491ms/step - loss: 0.4399 - accuracy: 0.7933 - val_loss: 0.4861 - val_accuracy: 0.7795\n",
      "Epoch 11/25\n",
      "250/250 [==============================] - 136s 542ms/step - loss: 0.4157 - accuracy: 0.8058 - val_loss: 0.4631 - val_accuracy: 0.7855\n",
      "Epoch 12/25\n",
      "250/250 [==============================] - 130s 521ms/step - loss: 0.4054 - accuracy: 0.8129 - val_loss: 0.5762 - val_accuracy: 0.7540\n",
      "Epoch 13/25\n",
      "250/250 [==============================] - 177s 711ms/step - loss: 0.3956 - accuracy: 0.8158 - val_loss: 0.5296 - val_accuracy: 0.7680\n",
      "Epoch 14/25\n",
      "250/250 [==============================] - 62s 247ms/step - loss: 0.3726 - accuracy: 0.8339 - val_loss: 0.4865 - val_accuracy: 0.7775\n",
      "Epoch 15/25\n",
      "250/250 [==============================] - 61s 242ms/step - loss: 0.3576 - accuracy: 0.8381 - val_loss: 0.4852 - val_accuracy: 0.7855\n",
      "Epoch 16/25\n",
      "250/250 [==============================] - 60s 240ms/step - loss: 0.3461 - accuracy: 0.8469 - val_loss: 0.4867 - val_accuracy: 0.8010\n",
      "Epoch 17/25\n",
      "250/250 [==============================] - 61s 243ms/step - loss: 0.3461 - accuracy: 0.8447 - val_loss: 0.4919 - val_accuracy: 0.7870\n",
      "Epoch 18/25\n",
      "250/250 [==============================] - 60s 239ms/step - loss: 0.3264 - accuracy: 0.8561 - val_loss: 0.4919 - val_accuracy: 0.7945\n",
      "Epoch 19/25\n",
      "250/250 [==============================] - 61s 243ms/step - loss: 0.3088 - accuracy: 0.8627 - val_loss: 0.4851 - val_accuracy: 0.8065\n",
      "Epoch 20/25\n",
      "250/250 [==============================] - 60s 240ms/step - loss: 0.3123 - accuracy: 0.8639 - val_loss: 0.4680 - val_accuracy: 0.7965\n",
      "Epoch 21/25\n",
      "250/250 [==============================] - 62s 249ms/step - loss: 0.2947 - accuracy: 0.8760 - val_loss: 0.5148 - val_accuracy: 0.7920\n",
      "Epoch 22/25\n",
      "250/250 [==============================] - 59s 235ms/step - loss: 0.2766 - accuracy: 0.8800 - val_loss: 0.5471 - val_accuracy: 0.7840\n",
      "Epoch 23/25\n",
      "250/250 [==============================] - 60s 240ms/step - loss: 0.2636 - accuracy: 0.8884 - val_loss: 0.5284 - val_accuracy: 0.7950\n",
      "Epoch 24/25\n",
      "250/250 [==============================] - 59s 238ms/step - loss: 0.2705 - accuracy: 0.8884 - val_loss: 0.5092 - val_accuracy: 0.7975\n",
      "Epoch 25/25\n",
      "250/250 [==============================] - 59s 236ms/step - loss: 0.2467 - accuracy: 0.8985 - val_loss: 0.5286 - val_accuracy: 0.7835\n"
     ]
    },
    {
     "data": {
      "text/plain": [
       "<keras.callbacks.History at 0x196c8ef0220>"
      ]
     },
     "execution_count": 28,
     "metadata": {},
     "output_type": "execute_result"
    }
   ],
   "source": [
    "cnn.fit(x = training_set,validation_data = test_set,epochs=25)"
   ]
  },
  {
   "cell_type": "markdown",
   "id": "9f638201",
   "metadata": {},
   "source": [
    "### Part 4: Making a single prediction"
   ]
  },
  {
   "cell_type": "markdown",
   "id": "8f80eb59",
   "metadata": {},
   "source": [
    "    we need to convert the PIL format into numpy array"
   ]
  },
  {
   "cell_type": "code",
   "execution_count": 49,
   "id": "1d2abc86",
   "metadata": {},
   "outputs": [],
   "source": [
    "import numpy as np\n",
    "from keras.preprocessing import image\n",
    "test_image = image.load_img(\"C:\\\\Users\\\\basav\\\\Desktop\\\\dataset\\\\single_prediction\\\\cat_or_dog_7.jpg\",target_size=[64,64])\n",
    "test_image = image.img_to_array(test_image)\n",
    "test_image = np.expand_dims(test_image,axis=0)\n",
    "result = cnn.predict(test_image)\n",
    "training_set.class_indices\n",
    "if result[0][0]==1:\n",
    "    prediction = 'Dog'\n",
    "else:\n",
    "    prediction = 'Cat'"
   ]
  },
  {
   "cell_type": "code",
   "execution_count": 50,
   "id": "2bb9e366",
   "metadata": {},
   "outputs": [
    {
     "name": "stdout",
     "output_type": "stream",
     "text": [
      "Cat\n"
     ]
    }
   ],
   "source": [
    "print(prediction)"
   ]
  },
  {
   "cell_type": "code",
   "execution_count": null,
   "id": "74449ccb",
   "metadata": {},
   "outputs": [],
   "source": []
  }
 ],
 "metadata": {
  "kernelspec": {
   "display_name": "Python 3 (ipykernel)",
   "language": "python",
   "name": "python3"
  },
  "language_info": {
   "codemirror_mode": {
    "name": "ipython",
    "version": 3
   },
   "file_extension": ".py",
   "mimetype": "text/x-python",
   "name": "python",
   "nbconvert_exporter": "python",
   "pygments_lexer": "ipython3",
   "version": "3.9.7"
  }
 },
 "nbformat": 4,
 "nbformat_minor": 5
}
